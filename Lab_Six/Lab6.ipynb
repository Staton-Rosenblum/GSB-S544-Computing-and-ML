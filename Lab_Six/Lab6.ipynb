{
  "cells": [
    {
      "cell_type": "raw",
      "metadata": {
        "vscode": {
          "languageId": "raw"
        }
      },
      "source": [
        "---\n",
        "embed-resources: true\n",
        "---"
      ]
    },
    {
      "cell_type": "code",
      "execution_count": 3,
      "metadata": {
        "colab": {
          "base_uri": "https://localhost:8080/",
          "height": 226
        },
        "id": "8owysdYgwyr3",
        "outputId": "22e98fc5-a2e2-475e-b1d9-063d5dafac02"
      },
      "outputs": [
        {
          "data": {
            "application/vnd.google.colaboratory.intrinsic+json": {
              "summary": "{\n  \"name\": \"df\",\n  \"rows\": 322,\n  \"fields\": [\n    {\n      \"column\": \"AtBat\",\n      \"properties\": {\n        \"dtype\": \"number\",\n        \"std\": 153,\n        \"min\": 16,\n        \"max\": 687,\n        \"num_unique_values\": 247,\n        \"samples\": [\n          583,\n          185,\n          211\n        ],\n        \"semantic_type\": \"\",\n        \"description\": \"\"\n      }\n    },\n    {\n      \"column\": \"Hits\",\n      \"properties\": {\n        \"dtype\": \"number\",\n        \"std\": 46,\n        \"min\": 1,\n        \"max\": 238,\n        \"num_unique_values\": 144,\n        \"samples\": [\n          65,\n          109,\n          125\n        ],\n        \"semantic_type\": \"\",\n        \"description\": \"\"\n      }\n    },\n    {\n      \"column\": \"HmRun\",\n      \"properties\": {\n        \"dtype\": \"number\",\n        \"std\": 8,\n        \"min\": 0,\n        \"max\": 40,\n        \"num_unique_values\": 36,\n        \"samples\": [\n          30,\n          8,\n          15\n        ],\n        \"semantic_type\": \"\",\n        \"description\": \"\"\n      }\n    },\n    {\n      \"column\": \"Runs\",\n      \"properties\": {\n        \"dtype\": \"number\",\n        \"std\": 26,\n        \"min\": 0,\n        \"max\": 130,\n        \"num_unique_values\": 96,\n        \"samples\": [\n          47,\n          77,\n          84\n        ],\n        \"semantic_type\": \"\",\n        \"description\": \"\"\n      }\n    },\n    {\n      \"column\": \"RBI\",\n      \"properties\": {\n        \"dtype\": \"number\",\n        \"std\": 26,\n        \"min\": 0,\n        \"max\": 121,\n        \"num_unique_values\": 103,\n        \"samples\": [\n          25,\n          84,\n          57\n        ],\n        \"semantic_type\": \"\",\n        \"description\": \"\"\n      }\n    },\n    {\n      \"column\": \"Walks\",\n      \"properties\": {\n        \"dtype\": \"number\",\n        \"std\": 21,\n        \"min\": 0,\n        \"max\": 105,\n        \"num_unique_values\": 89,\n        \"samples\": [\n          53,\n          68,\n          41\n        ],\n        \"semantic_type\": \"\",\n        \"description\": \"\"\n      }\n    },\n    {\n      \"column\": \"Years\",\n      \"properties\": {\n        \"dtype\": \"number\",\n        \"std\": 4,\n        \"min\": 1,\n        \"max\": 24,\n        \"num_unique_values\": 22,\n        \"samples\": [\n          1,\n          8,\n          4\n        ],\n        \"semantic_type\": \"\",\n        \"description\": \"\"\n      }\n    },\n    {\n      \"column\": \"CAtBat\",\n      \"properties\": {\n        \"dtype\": \"number\",\n        \"std\": 2324,\n        \"min\": 19,\n        \"max\": 14053,\n        \"num_unique_values\": 314,\n        \"samples\": [\n          618,\n          1646,\n          978\n        ],\n        \"semantic_type\": \"\",\n        \"description\": \"\"\n      }\n    },\n    {\n      \"column\": \"CHits\",\n      \"properties\": {\n        \"dtype\": \"number\",\n        \"std\": 654,\n        \"min\": 4,\n        \"max\": 4256,\n        \"num_unique_values\": 288,\n        \"samples\": [\n          273,\n          541,\n          448\n        ],\n        \"semantic_type\": \"\",\n        \"description\": \"\"\n      }\n    },\n    {\n      \"column\": \"CHmRun\",\n      \"properties\": {\n        \"dtype\": \"number\",\n        \"std\": 86,\n        \"min\": 0,\n        \"max\": 548,\n        \"num_unique_values\": 146,\n        \"samples\": [\n          98,\n          194,\n          166\n        ],\n        \"semantic_type\": \"\",\n        \"description\": \"\"\n      }\n    },\n    {\n      \"column\": \"CRuns\",\n      \"properties\": {\n        \"dtype\": \"number\",\n        \"std\": 334,\n        \"min\": 1,\n        \"max\": 2165,\n        \"num_unique_values\": 261,\n        \"samples\": [\n          80,\n          518,\n          571\n        ],\n        \"semantic_type\": \"\",\n        \"description\": \"\"\n      }\n    },\n    {\n      \"column\": \"CRBI\",\n      \"properties\": {\n        \"dtype\": \"number\",\n        \"std\": 333,\n        \"min\": 0,\n        \"max\": 1659,\n        \"num_unique_values\": 262,\n        \"samples\": [\n          363,\n          1659,\n          83\n        ],\n        \"semantic_type\": \"\",\n        \"description\": \"\"\n      }\n    },\n    {\n      \"column\": \"CWalks\",\n      \"properties\": {\n        \"dtype\": \"number\",\n        \"std\": 267,\n        \"min\": 0,\n        \"max\": 1566,\n        \"num_unique_values\": 248,\n        \"samples\": [\n          136,\n          24,\n          113\n        ],\n        \"semantic_type\": \"\",\n        \"description\": \"\"\n      }\n    },\n    {\n      \"column\": \"League\",\n      \"properties\": {\n        \"dtype\": \"category\",\n        \"num_unique_values\": 2,\n        \"samples\": [\n          \"N\",\n          \"A\"\n        ],\n        \"semantic_type\": \"\",\n        \"description\": \"\"\n      }\n    },\n    {\n      \"column\": \"Division\",\n      \"properties\": {\n        \"dtype\": \"category\",\n        \"num_unique_values\": 2,\n        \"samples\": [\n          \"W\",\n          \"E\"\n        ],\n        \"semantic_type\": \"\",\n        \"description\": \"\"\n      }\n    },\n    {\n      \"column\": \"PutOuts\",\n      \"properties\": {\n        \"dtype\": \"number\",\n        \"std\": 280,\n        \"min\": 0,\n        \"max\": 1378,\n        \"num_unique_values\": 232,\n        \"samples\": [\n          133,\n          224\n        ],\n        \"semantic_type\": \"\",\n        \"description\": \"\"\n      }\n    },\n    {\n      \"column\": \"Assists\",\n      \"properties\": {\n        \"dtype\": \"number\",\n        \"std\": 136,\n        \"min\": 0,\n        \"max\": 492,\n        \"num_unique_values\": 161,\n        \"samples\": [\n          12,\n          258\n        ],\n        \"semantic_type\": \"\",\n        \"description\": \"\"\n      }\n    },\n    {\n      \"column\": \"Errors\",\n      \"properties\": {\n        \"dtype\": \"number\",\n        \"std\": 6,\n        \"min\": 0,\n        \"max\": 32,\n        \"num_unique_values\": 29,\n        \"samples\": [\n          17,\n          5\n        ],\n        \"semantic_type\": \"\",\n        \"description\": \"\"\n      }\n    },\n    {\n      \"column\": \"Salary\",\n      \"properties\": {\n        \"dtype\": \"number\",\n        \"std\": 451.1186807025387,\n        \"min\": 67.5,\n        \"max\": 2460.0,\n        \"num_unique_values\": 150,\n        \"samples\": [\n          400.0,\n          600.0\n        ],\n        \"semantic_type\": \"\",\n        \"description\": \"\"\n      }\n    },\n    {\n      \"column\": \"NewLeague\",\n      \"properties\": {\n        \"dtype\": \"category\",\n        \"num_unique_values\": 2,\n        \"samples\": [\n          \"N\",\n          \"A\"\n        ],\n        \"semantic_type\": \"\",\n        \"description\": \"\"\n      }\n    }\n  ]\n}",
              "type": "dataframe",
              "variable_name": "df"
            },
            "text/html": [
              "\n",
              "  <div id=\"df-8604b98b-df3e-497c-a616-90dd677de1bf\" class=\"colab-df-container\">\n",
              "    <div>\n",
              "<style scoped>\n",
              "    .dataframe tbody tr th:only-of-type {\n",
              "        vertical-align: middle;\n",
              "    }\n",
              "\n",
              "    .dataframe tbody tr th {\n",
              "        vertical-align: top;\n",
              "    }\n",
              "\n",
              "    .dataframe thead th {\n",
              "        text-align: right;\n",
              "    }\n",
              "</style>\n",
              "<table border=\"1\" class=\"dataframe\">\n",
              "  <thead>\n",
              "    <tr style=\"text-align: right;\">\n",
              "      <th></th>\n",
              "      <th>AtBat</th>\n",
              "      <th>Hits</th>\n",
              "      <th>HmRun</th>\n",
              "      <th>Runs</th>\n",
              "      <th>RBI</th>\n",
              "      <th>Walks</th>\n",
              "      <th>Years</th>\n",
              "      <th>CAtBat</th>\n",
              "      <th>CHits</th>\n",
              "      <th>CHmRun</th>\n",
              "      <th>CRuns</th>\n",
              "      <th>CRBI</th>\n",
              "      <th>CWalks</th>\n",
              "      <th>League</th>\n",
              "      <th>Division</th>\n",
              "      <th>PutOuts</th>\n",
              "      <th>Assists</th>\n",
              "      <th>Errors</th>\n",
              "      <th>Salary</th>\n",
              "      <th>NewLeague</th>\n",
              "    </tr>\n",
              "  </thead>\n",
              "  <tbody>\n",
              "    <tr>\n",
              "      <th>0</th>\n",
              "      <td>293</td>\n",
              "      <td>66</td>\n",
              "      <td>1</td>\n",
              "      <td>30</td>\n",
              "      <td>29</td>\n",
              "      <td>14</td>\n",
              "      <td>1</td>\n",
              "      <td>293</td>\n",
              "      <td>66</td>\n",
              "      <td>1</td>\n",
              "      <td>30</td>\n",
              "      <td>29</td>\n",
              "      <td>14</td>\n",
              "      <td>A</td>\n",
              "      <td>E</td>\n",
              "      <td>446</td>\n",
              "      <td>33</td>\n",
              "      <td>20</td>\n",
              "      <td>NaN</td>\n",
              "      <td>A</td>\n",
              "    </tr>\n",
              "    <tr>\n",
              "      <th>1</th>\n",
              "      <td>315</td>\n",
              "      <td>81</td>\n",
              "      <td>7</td>\n",
              "      <td>24</td>\n",
              "      <td>38</td>\n",
              "      <td>39</td>\n",
              "      <td>14</td>\n",
              "      <td>3449</td>\n",
              "      <td>835</td>\n",
              "      <td>69</td>\n",
              "      <td>321</td>\n",
              "      <td>414</td>\n",
              "      <td>375</td>\n",
              "      <td>N</td>\n",
              "      <td>W</td>\n",
              "      <td>632</td>\n",
              "      <td>43</td>\n",
              "      <td>10</td>\n",
              "      <td>475.0</td>\n",
              "      <td>N</td>\n",
              "    </tr>\n",
              "    <tr>\n",
              "      <th>2</th>\n",
              "      <td>479</td>\n",
              "      <td>130</td>\n",
              "      <td>18</td>\n",
              "      <td>66</td>\n",
              "      <td>72</td>\n",
              "      <td>76</td>\n",
              "      <td>3</td>\n",
              "      <td>1624</td>\n",
              "      <td>457</td>\n",
              "      <td>63</td>\n",
              "      <td>224</td>\n",
              "      <td>266</td>\n",
              "      <td>263</td>\n",
              "      <td>A</td>\n",
              "      <td>W</td>\n",
              "      <td>880</td>\n",
              "      <td>82</td>\n",
              "      <td>14</td>\n",
              "      <td>480.0</td>\n",
              "      <td>A</td>\n",
              "    </tr>\n",
              "    <tr>\n",
              "      <th>3</th>\n",
              "      <td>496</td>\n",
              "      <td>141</td>\n",
              "      <td>20</td>\n",
              "      <td>65</td>\n",
              "      <td>78</td>\n",
              "      <td>37</td>\n",
              "      <td>11</td>\n",
              "      <td>5628</td>\n",
              "      <td>1575</td>\n",
              "      <td>225</td>\n",
              "      <td>828</td>\n",
              "      <td>838</td>\n",
              "      <td>354</td>\n",
              "      <td>N</td>\n",
              "      <td>E</td>\n",
              "      <td>200</td>\n",
              "      <td>11</td>\n",
              "      <td>3</td>\n",
              "      <td>500.0</td>\n",
              "      <td>N</td>\n",
              "    </tr>\n",
              "    <tr>\n",
              "      <th>4</th>\n",
              "      <td>321</td>\n",
              "      <td>87</td>\n",
              "      <td>10</td>\n",
              "      <td>39</td>\n",
              "      <td>42</td>\n",
              "      <td>30</td>\n",
              "      <td>2</td>\n",
              "      <td>396</td>\n",
              "      <td>101</td>\n",
              "      <td>12</td>\n",
              "      <td>48</td>\n",
              "      <td>46</td>\n",
              "      <td>33</td>\n",
              "      <td>N</td>\n",
              "      <td>E</td>\n",
              "      <td>805</td>\n",
              "      <td>40</td>\n",
              "      <td>4</td>\n",
              "      <td>91.5</td>\n",
              "      <td>N</td>\n",
              "    </tr>\n",
              "  </tbody>\n",
              "</table>\n",
              "</div>\n",
              "    <div class=\"colab-df-buttons\">\n",
              "\n",
              "  <div class=\"colab-df-container\">\n",
              "    <button class=\"colab-df-convert\" onclick=\"convertToInteractive('df-8604b98b-df3e-497c-a616-90dd677de1bf')\"\n",
              "            title=\"Convert this dataframe to an interactive table.\"\n",
              "            style=\"display:none;\">\n",
              "\n",
              "  <svg xmlns=\"http://www.w3.org/2000/svg\" height=\"24px\" viewBox=\"0 -960 960 960\">\n",
              "    <path d=\"M120-120v-720h720v720H120Zm60-500h600v-160H180v160Zm220 220h160v-160H400v160Zm0 220h160v-160H400v160ZM180-400h160v-160H180v160Zm440 0h160v-160H620v160ZM180-180h160v-160H180v160Zm440 0h160v-160H620v160Z\"/>\n",
              "  </svg>\n",
              "    </button>\n",
              "\n",
              "  <style>\n",
              "    .colab-df-container {\n",
              "      display:flex;\n",
              "      gap: 12px;\n",
              "    }\n",
              "\n",
              "    .colab-df-convert {\n",
              "      background-color: #E8F0FE;\n",
              "      border: none;\n",
              "      border-radius: 50%;\n",
              "      cursor: pointer;\n",
              "      display: none;\n",
              "      fill: #1967D2;\n",
              "      height: 32px;\n",
              "      padding: 0 0 0 0;\n",
              "      width: 32px;\n",
              "    }\n",
              "\n",
              "    .colab-df-convert:hover {\n",
              "      background-color: #E2EBFA;\n",
              "      box-shadow: 0px 1px 2px rgba(60, 64, 67, 0.3), 0px 1px 3px 1px rgba(60, 64, 67, 0.15);\n",
              "      fill: #174EA6;\n",
              "    }\n",
              "\n",
              "    .colab-df-buttons div {\n",
              "      margin-bottom: 4px;\n",
              "    }\n",
              "\n",
              "    [theme=dark] .colab-df-convert {\n",
              "      background-color: #3B4455;\n",
              "      fill: #D2E3FC;\n",
              "    }\n",
              "\n",
              "    [theme=dark] .colab-df-convert:hover {\n",
              "      background-color: #434B5C;\n",
              "      box-shadow: 0px 1px 3px 1px rgba(0, 0, 0, 0.15);\n",
              "      filter: drop-shadow(0px 1px 2px rgba(0, 0, 0, 0.3));\n",
              "      fill: #FFFFFF;\n",
              "    }\n",
              "  </style>\n",
              "\n",
              "    <script>\n",
              "      const buttonEl =\n",
              "        document.querySelector('#df-8604b98b-df3e-497c-a616-90dd677de1bf button.colab-df-convert');\n",
              "      buttonEl.style.display =\n",
              "        google.colab.kernel.accessAllowed ? 'block' : 'none';\n",
              "\n",
              "      async function convertToInteractive(key) {\n",
              "        const element = document.querySelector('#df-8604b98b-df3e-497c-a616-90dd677de1bf');\n",
              "        const dataTable =\n",
              "          await google.colab.kernel.invokeFunction('convertToInteractive',\n",
              "                                                    [key], {});\n",
              "        if (!dataTable) return;\n",
              "\n",
              "        const docLinkHtml = 'Like what you see? Visit the ' +\n",
              "          '<a target=\"_blank\" href=https://colab.research.google.com/notebooks/data_table.ipynb>data table notebook</a>'\n",
              "          + ' to learn more about interactive tables.';\n",
              "        element.innerHTML = '';\n",
              "        dataTable['output_type'] = 'display_data';\n",
              "        await google.colab.output.renderOutput(dataTable, element);\n",
              "        const docLink = document.createElement('div');\n",
              "        docLink.innerHTML = docLinkHtml;\n",
              "        element.appendChild(docLink);\n",
              "      }\n",
              "    </script>\n",
              "  </div>\n",
              "\n",
              "\n",
              "<div id=\"df-bf3b2f88-12a3-4a90-8fb0-3a3e4e3038ab\">\n",
              "  <button class=\"colab-df-quickchart\" onclick=\"quickchart('df-bf3b2f88-12a3-4a90-8fb0-3a3e4e3038ab')\"\n",
              "            title=\"Suggest charts\"\n",
              "            style=\"display:none;\">\n",
              "\n",
              "<svg xmlns=\"http://www.w3.org/2000/svg\" height=\"24px\"viewBox=\"0 0 24 24\"\n",
              "     width=\"24px\">\n",
              "    <g>\n",
              "        <path d=\"M19 3H5c-1.1 0-2 .9-2 2v14c0 1.1.9 2 2 2h14c1.1 0 2-.9 2-2V5c0-1.1-.9-2-2-2zM9 17H7v-7h2v7zm4 0h-2V7h2v10zm4 0h-2v-4h2v4z\"/>\n",
              "    </g>\n",
              "</svg>\n",
              "  </button>\n",
              "\n",
              "<style>\n",
              "  .colab-df-quickchart {\n",
              "      --bg-color: #E8F0FE;\n",
              "      --fill-color: #1967D2;\n",
              "      --hover-bg-color: #E2EBFA;\n",
              "      --hover-fill-color: #174EA6;\n",
              "      --disabled-fill-color: #AAA;\n",
              "      --disabled-bg-color: #DDD;\n",
              "  }\n",
              "\n",
              "  [theme=dark] .colab-df-quickchart {\n",
              "      --bg-color: #3B4455;\n",
              "      --fill-color: #D2E3FC;\n",
              "      --hover-bg-color: #434B5C;\n",
              "      --hover-fill-color: #FFFFFF;\n",
              "      --disabled-bg-color: #3B4455;\n",
              "      --disabled-fill-color: #666;\n",
              "  }\n",
              "\n",
              "  .colab-df-quickchart {\n",
              "    background-color: var(--bg-color);\n",
              "    border: none;\n",
              "    border-radius: 50%;\n",
              "    cursor: pointer;\n",
              "    display: none;\n",
              "    fill: var(--fill-color);\n",
              "    height: 32px;\n",
              "    padding: 0;\n",
              "    width: 32px;\n",
              "  }\n",
              "\n",
              "  .colab-df-quickchart:hover {\n",
              "    background-color: var(--hover-bg-color);\n",
              "    box-shadow: 0 1px 2px rgba(60, 64, 67, 0.3), 0 1px 3px 1px rgba(60, 64, 67, 0.15);\n",
              "    fill: var(--button-hover-fill-color);\n",
              "  }\n",
              "\n",
              "  .colab-df-quickchart-complete:disabled,\n",
              "  .colab-df-quickchart-complete:disabled:hover {\n",
              "    background-color: var(--disabled-bg-color);\n",
              "    fill: var(--disabled-fill-color);\n",
              "    box-shadow: none;\n",
              "  }\n",
              "\n",
              "  .colab-df-spinner {\n",
              "    border: 2px solid var(--fill-color);\n",
              "    border-color: transparent;\n",
              "    border-bottom-color: var(--fill-color);\n",
              "    animation:\n",
              "      spin 1s steps(1) infinite;\n",
              "  }\n",
              "\n",
              "  @keyframes spin {\n",
              "    0% {\n",
              "      border-color: transparent;\n",
              "      border-bottom-color: var(--fill-color);\n",
              "      border-left-color: var(--fill-color);\n",
              "    }\n",
              "    20% {\n",
              "      border-color: transparent;\n",
              "      border-left-color: var(--fill-color);\n",
              "      border-top-color: var(--fill-color);\n",
              "    }\n",
              "    30% {\n",
              "      border-color: transparent;\n",
              "      border-left-color: var(--fill-color);\n",
              "      border-top-color: var(--fill-color);\n",
              "      border-right-color: var(--fill-color);\n",
              "    }\n",
              "    40% {\n",
              "      border-color: transparent;\n",
              "      border-right-color: var(--fill-color);\n",
              "      border-top-color: var(--fill-color);\n",
              "    }\n",
              "    60% {\n",
              "      border-color: transparent;\n",
              "      border-right-color: var(--fill-color);\n",
              "    }\n",
              "    80% {\n",
              "      border-color: transparent;\n",
              "      border-right-color: var(--fill-color);\n",
              "      border-bottom-color: var(--fill-color);\n",
              "    }\n",
              "    90% {\n",
              "      border-color: transparent;\n",
              "      border-bottom-color: var(--fill-color);\n",
              "    }\n",
              "  }\n",
              "</style>\n",
              "\n",
              "  <script>\n",
              "    async function quickchart(key) {\n",
              "      const quickchartButtonEl =\n",
              "        document.querySelector('#' + key + ' button');\n",
              "      quickchartButtonEl.disabled = true;  // To prevent multiple clicks.\n",
              "      quickchartButtonEl.classList.add('colab-df-spinner');\n",
              "      try {\n",
              "        const charts = await google.colab.kernel.invokeFunction(\n",
              "            'suggestCharts', [key], {});\n",
              "      } catch (error) {\n",
              "        console.error('Error during call to suggestCharts:', error);\n",
              "      }\n",
              "      quickchartButtonEl.classList.remove('colab-df-spinner');\n",
              "      quickchartButtonEl.classList.add('colab-df-quickchart-complete');\n",
              "    }\n",
              "    (() => {\n",
              "      let quickchartButtonEl =\n",
              "        document.querySelector('#df-bf3b2f88-12a3-4a90-8fb0-3a3e4e3038ab button');\n",
              "      quickchartButtonEl.style.display =\n",
              "        google.colab.kernel.accessAllowed ? 'block' : 'none';\n",
              "    })();\n",
              "  </script>\n",
              "</div>\n",
              "\n",
              "    </div>\n",
              "  </div>\n"
            ],
            "text/plain": [
              "   AtBat  Hits  HmRun  Runs  RBI  Walks  Years  CAtBat  CHits  CHmRun  CRuns  \\\n",
              "0    293    66      1    30   29     14      1     293     66       1     30   \n",
              "1    315    81      7    24   38     39     14    3449    835      69    321   \n",
              "2    479   130     18    66   72     76      3    1624    457      63    224   \n",
              "3    496   141     20    65   78     37     11    5628   1575     225    828   \n",
              "4    321    87     10    39   42     30      2     396    101      12     48   \n",
              "\n",
              "   CRBI  CWalks League Division  PutOuts  Assists  Errors  Salary NewLeague  \n",
              "0    29      14      A        E      446       33      20     NaN         A  \n",
              "1   414     375      N        W      632       43      10   475.0         N  \n",
              "2   266     263      A        W      880       82      14   480.0         A  \n",
              "3   838     354      N        E      200       11       3   500.0         N  \n",
              "4    46      33      N        E      805       40       4    91.5         N  "
            ]
          },
          "execution_count": 3,
          "metadata": {},
          "output_type": "execute_result"
        }
      ],
      "source": [
        "import pandas as pd\n",
        "import numpy as np\n",
        "import matplotlib.pyplot as plt\n",
        "from sklearn.model_selection import train_test_split, GridSearchCV, cross_val_score\n",
        "from sklearn.metrics import mean_squared_error\n",
        "from sklearn.compose import ColumnTransformer, make_column_selector\n",
        "from sklearn.preprocessing import StandardScaler, OneHotEncoder, PolynomialFeatures\n",
        "from sklearn.pipeline import Pipeline\n",
        "from sklearn.linear_model import LinearRegression, Ridge, Lasso, ElasticNet\n",
        "\n",
        "df = pd.read_csv('Hitters.csv')\n",
        "df.head()"
      ]
    },
    {
      "cell_type": "code",
      "execution_count": 4,
      "metadata": {
        "colab": {
          "base_uri": "https://localhost:8080/",
          "height": 711
        },
        "id": "GYuHHMr42i1W",
        "outputId": "f93c5e30-7ec0-4873-a8e3-732fca506ee4"
      },
      "outputs": [
        {
          "data": {
            "text/html": [
              "<div>\n",
              "<style scoped>\n",
              "    .dataframe tbody tr th:only-of-type {\n",
              "        vertical-align: middle;\n",
              "    }\n",
              "\n",
              "    .dataframe tbody tr th {\n",
              "        vertical-align: top;\n",
              "    }\n",
              "\n",
              "    .dataframe thead th {\n",
              "        text-align: right;\n",
              "    }\n",
              "</style>\n",
              "<table border=\"1\" class=\"dataframe\">\n",
              "  <thead>\n",
              "    <tr style=\"text-align: right;\">\n",
              "      <th></th>\n",
              "      <th>0</th>\n",
              "    </tr>\n",
              "  </thead>\n",
              "  <tbody>\n",
              "    <tr>\n",
              "      <th>AtBat</th>\n",
              "      <td>0</td>\n",
              "    </tr>\n",
              "    <tr>\n",
              "      <th>Hits</th>\n",
              "      <td>0</td>\n",
              "    </tr>\n",
              "    <tr>\n",
              "      <th>HmRun</th>\n",
              "      <td>0</td>\n",
              "    </tr>\n",
              "    <tr>\n",
              "      <th>Runs</th>\n",
              "      <td>0</td>\n",
              "    </tr>\n",
              "    <tr>\n",
              "      <th>RBI</th>\n",
              "      <td>0</td>\n",
              "    </tr>\n",
              "    <tr>\n",
              "      <th>Walks</th>\n",
              "      <td>0</td>\n",
              "    </tr>\n",
              "    <tr>\n",
              "      <th>Years</th>\n",
              "      <td>0</td>\n",
              "    </tr>\n",
              "    <tr>\n",
              "      <th>CAtBat</th>\n",
              "      <td>0</td>\n",
              "    </tr>\n",
              "    <tr>\n",
              "      <th>CHits</th>\n",
              "      <td>0</td>\n",
              "    </tr>\n",
              "    <tr>\n",
              "      <th>CHmRun</th>\n",
              "      <td>0</td>\n",
              "    </tr>\n",
              "    <tr>\n",
              "      <th>CRuns</th>\n",
              "      <td>0</td>\n",
              "    </tr>\n",
              "    <tr>\n",
              "      <th>CRBI</th>\n",
              "      <td>0</td>\n",
              "    </tr>\n",
              "    <tr>\n",
              "      <th>CWalks</th>\n",
              "      <td>0</td>\n",
              "    </tr>\n",
              "    <tr>\n",
              "      <th>League</th>\n",
              "      <td>0</td>\n",
              "    </tr>\n",
              "    <tr>\n",
              "      <th>Division</th>\n",
              "      <td>0</td>\n",
              "    </tr>\n",
              "    <tr>\n",
              "      <th>PutOuts</th>\n",
              "      <td>0</td>\n",
              "    </tr>\n",
              "    <tr>\n",
              "      <th>Assists</th>\n",
              "      <td>0</td>\n",
              "    </tr>\n",
              "    <tr>\n",
              "      <th>Errors</th>\n",
              "      <td>0</td>\n",
              "    </tr>\n",
              "    <tr>\n",
              "      <th>Salary</th>\n",
              "      <td>59</td>\n",
              "    </tr>\n",
              "    <tr>\n",
              "      <th>NewLeague</th>\n",
              "      <td>0</td>\n",
              "    </tr>\n",
              "  </tbody>\n",
              "</table>\n",
              "</div><br><label><b>dtype:</b> int64</label>"
            ],
            "text/plain": [
              "AtBat         0\n",
              "Hits          0\n",
              "HmRun         0\n",
              "Runs          0\n",
              "RBI           0\n",
              "Walks         0\n",
              "Years         0\n",
              "CAtBat        0\n",
              "CHits         0\n",
              "CHmRun        0\n",
              "CRuns         0\n",
              "CRBI          0\n",
              "CWalks        0\n",
              "League        0\n",
              "Division      0\n",
              "PutOuts       0\n",
              "Assists       0\n",
              "Errors        0\n",
              "Salary       59\n",
              "NewLeague     0\n",
              "dtype: int64"
            ]
          },
          "execution_count": 4,
          "metadata": {},
          "output_type": "execute_result"
        }
      ],
      "source": [
        "df.isnull().sum()\n"
      ]
    },
    {
      "cell_type": "code",
      "execution_count": 5,
      "metadata": {
        "id": "MH9pQvRv3ny8"
      },
      "outputs": [],
      "source": [
        "df.dropna(inplace=True)"
      ]
    },
    {
      "cell_type": "markdown",
      "metadata": {
        "id": "mEcustON33RI"
      },
      "source": [
        "Part I: Different Model Specs"
      ]
    },
    {
      "cell_type": "markdown",
      "metadata": {
        "id": "D303hsqW34Sx"
      },
      "source": [
        "A. Regression without regularization"
      ]
    },
    {
      "cell_type": "code",
      "execution_count": 8,
      "metadata": {
        "colab": {
          "base_uri": "https://localhost:8080/"
        },
        "id": "Auzm0gxMKzQq",
        "outputId": "41f3fa6a-75c5-4d1c-c6fd-b1bf26516225"
      },
      "outputs": [
        {
          "name": "stdout",
          "output_type": "stream",
          "text": [
            "Test MSE: 118171.48028569469\n",
            "Estimated MSE from cross-validation: 121136.31031816886\n",
            "Feature Coefficients:\n",
            "        Feature  Coefficient\n",
            "0         AtBat  -384.625311\n",
            "1          Hits   369.843335\n",
            "2         HmRun    42.890180\n",
            "3          Runs   -29.301448\n",
            "4           RBI   -15.381813\n",
            "5         Walks   130.131350\n",
            "6         Years   -11.145178\n",
            "7        CAtBat  -258.068451\n",
            "8         CHits   -13.517868\n",
            "9        CHmRun     7.929418\n",
            "10        CRuns   460.993036\n",
            "11         CRBI   271.125959\n",
            "12       CWalks  -255.193512\n",
            "13      PutOuts    76.364714\n",
            "14      Assists   109.351063\n",
            "15       Errors   -62.294005\n",
            "16     League_N    43.337925\n",
            "17   Division_W  -109.048644\n",
            "18  NewLeague_N    19.141294\n"
          ]
        }
      ],
      "source": [
        "X = df.drop(columns=['Salary'])\n",
        "y = df['Salary']\n",
        "\n",
        "X_train, X_test, y_train, y_test = train_test_split(X, y, test_size=0.25)\n",
        "\n",
        "numeric_features = X.select_dtypes(include=['int64', 'float64']).columns.tolist()\n",
        "categorical_features = ['League', 'Division', 'NewLeague']\n",
        "\n",
        "preprocessor = ColumnTransformer(\n",
        "    transformers=[\n",
        "        ('num', StandardScaler(), numeric_features),\n",
        "        ('cat', OneHotEncoder(drop = 'first', handle_unknown='ignore'), categorical_features)\n",
        "    ],\n",
        "    remainder='passthrough'\n",
        ")\n",
        "\n",
        "pipeline = Pipeline([\n",
        "    ('preprocessor', preprocessor),\n",
        "    ('regression', LinearRegression())\n",
        "])\n",
        "\n",
        "pipeline.fit(X_train, y_train)\n",
        "\n",
        "y_pred = pipeline.predict(X_test)\n",
        "test_mse = mean_squared_error(y_test, y_pred)\n",
        "print(f\"Test MSE: {test_mse}\")\n",
        "\n",
        "cross_val_mse = -cross_val_score(pipeline, X, y, scoring='neg_mean_squared_error', cv=5)\n",
        "mean_cross_val_mse = cross_val_mse.mean()\n",
        "print(f\"Estimated MSE from cross-validation: {mean_cross_val_mse}\")\n",
        "\n",
        "coefs = pipeline.named_steps['regression'].coef_\n",
        "\n",
        "feature_names = numeric_features + list(\n",
        "    pipeline.named_steps['preprocessor']\n",
        "    .transformers_[1][1]  #Reccomended by ChatGPT - Access the OneHotEncoder in the \"cat\" transformer\n",
        "    .get_feature_names_out(categorical_features)  # Get dummy variable names\n",
        ")\n",
        "\n",
        "coefs_df = pd.DataFrame({'Feature': feature_names, 'Coefficient': coefs})\n",
        "\n",
        "print(\"Feature Coefficients:\")\n",
        "print(coefs_df)\n"
      ]
    },
    {
      "cell_type": "markdown",
      "metadata": {
        "id": "l1IdEJgZZnZP"
      },
      "source": [
        "Above we can see the test MSE and cross validation MSE. As expected, hits, home runs, walks, putouts, and assists all have a positive effect on the salary. However, it is interesting that career walks is drastically negative. This could be due to the fact that older players generally do not make as much money as players in their prime. It is also interesting that runs is negative and it could potentially be due to an outlier in the sample."
      ]
    },
    {
      "cell_type": "markdown",
      "metadata": {
        "id": "THMhKx8CpjL9"
      },
      "source": [
        "B. Ridge regression"
      ]
    },
    {
      "cell_type": "code",
      "execution_count": 21,
      "metadata": {
        "colab": {
          "base_uri": "https://localhost:8080/"
        },
        "id": "yBX-YddWZ9HX",
        "outputId": "afb904b7-59cb-48fe-881a-c3a935301a8f"
      },
      "outputs": [
        {
          "name": "stdout",
          "output_type": "stream",
          "text": [
            "Best alpha: 1.0\n",
            "Estimated MSE from cross-validation: 119034.33271954516\n",
            "        Feature  Coefficient\n",
            "0         AtBat  -271.088165\n",
            "1          Hits   296.801967\n",
            "2         HmRun    17.973971\n",
            "3          Runs   -29.212352\n",
            "4           RBI    -8.909304\n",
            "5         Walks   124.344012\n",
            "6         Years   -38.619131\n",
            "7        CAtBat  -225.511649\n",
            "8         CHits   126.210585\n",
            "9        CHmRun    39.055346\n",
            "10        CRuns   320.802717\n",
            "11         CRBI   160.409497\n",
            "12       CWalks  -184.289408\n",
            "13      PutOuts    78.651037\n",
            "14      Assists    47.493631\n",
            "15       Errors   -23.651303\n",
            "16     League_N    58.555947\n",
            "17   Division_W  -119.076927\n",
            "18  NewLeague_N   -24.027205\n"
          ]
        }
      ],
      "source": [
        "X = df.drop(columns=['Salary'])\n",
        "y = df['Salary']\n",
        "\n",
        "numeric_features = X.select_dtypes(include=['int64', 'float64']).columns.tolist()\n",
        "categorical_features = ['League', 'Division', 'NewLeague']\n",
        "\n",
        "preprocessor = ColumnTransformer(\n",
        "    transformers=[\n",
        "        ('num', StandardScaler(), numeric_features),\n",
        "        ('cat', OneHotEncoder(drop='first', handle_unknown='ignore'), categorical_features)\n",
        "    ],\n",
        "    remainder='passthrough'\n",
        ")\n",
        "\n",
        "ridge_pipeline = Pipeline([\n",
        "    ('preprocessor', preprocessor),\n",
        "    ('ridge', Ridge())\n",
        "])\n",
        "\n",
        "param_grid = {'ridge__alpha': [0.001, .01, .1, 1.0, 10]}\n",
        "grid_search = GridSearchCV(ridge_pipeline, param_grid, cv=5, scoring='neg_mean_squared_error')\n",
        "grid_search.fit(X, y)\n",
        "\n",
        "best_alpha = grid_search.best_params_['ridge__alpha']\n",
        "print(f\"Best alpha: {best_alpha}\")\n",
        "\n",
        "ridge_pipeline.set_params(ridge__alpha=best_alpha)\n",
        "ridge_pipeline.fit(X, y)\n",
        "\n",
        "cross_val_mse = -cross_val_score(ridge_pipeline, X, y, scoring='neg_mean_squared_error', cv=5)\n",
        "mean_cross_val_mse = cross_val_mse.mean()\n",
        "print(f\"Estimated MSE from cross-validation: {mean_cross_val_mse}\")\n",
        "\n",
        "coefs = ridge_pipeline.named_steps['ridge'].coef_\n",
        "feature_names = numeric_features + list(\n",
        "    ridge_pipeline.named_steps['preprocessor']\n",
        "    .transformers_[1][1].get_feature_names_out(categorical_features)\n",
        ")\n",
        "coefs_df2 = pd.DataFrame({'Feature': feature_names, 'Coefficient': coefs})\n",
        "\n",
        "print(coefs_df2)\n"
      ]
    },
    {
      "cell_type": "markdown",
      "metadata": {
        "id": "rIWzN5P9Yk9O"
      },
      "source": [
        "These coefficients follow a similar trend to the ones in the linear model made above, but the values are slightly less on average. Hits still have a huge positive impact on salary."
      ]
    },
    {
      "cell_type": "markdown",
      "metadata": {
        "id": "DoWAznXYY2Jc"
      },
      "source": [
        "C. Lasso Regression"
      ]
    },
    {
      "cell_type": "code",
      "execution_count": 24,
      "metadata": {
        "colab": {
          "base_uri": "https://localhost:8080/"
        },
        "id": "lSLFlXq3Y5aQ",
        "outputId": "0c7b32c8-2609-4ece-cad7-4c28352439b8"
      },
      "outputs": [
        {
          "name": "stdout",
          "output_type": "stream",
          "text": [
            "Best alpha: 1\n",
            "Estimated MSE from cross-validation: 119758.22781528861\n",
            "All Coefficients:\n",
            "        Feature  Coefficient\n",
            "0         AtBat  -282.369623\n",
            "1          Hits   304.358267\n",
            "2         HmRun    11.127146\n",
            "3          Runs   -24.966048\n",
            "4           RBI    -0.000000\n",
            "5         Walks   120.694778\n",
            "6         Years   -34.947507\n",
            "7        CAtBat  -162.644108\n",
            "8         CHits     0.000000\n",
            "9        CHmRun    14.222855\n",
            "10        CRuns   375.565034\n",
            "11         CRBI   192.616442\n",
            "12       CWalks  -189.643123\n",
            "13      PutOuts    78.760260\n",
            "14      Assists    41.996661\n",
            "15       Errors   -18.479421\n",
            "16     League_N    35.826079\n",
            "17   Division_W  -114.412953\n",
            "18  NewLeague_N    -0.000000\n"
          ]
        }
      ],
      "source": [
        "X = df.drop(columns=['Salary'])\n",
        "y = df['Salary']\n",
        "\n",
        "numeric_features = X.select_dtypes(include=['int64', 'float64']).columns.tolist()\n",
        "categorical_features = ['League', 'Division', 'NewLeague']\n",
        "\n",
        "preprocessor = ColumnTransformer(\n",
        "    transformers=[\n",
        "        ('num', StandardScaler(), numeric_features),\n",
        "        ('cat', OneHotEncoder(drop='first', handle_unknown='ignore'), categorical_features)\n",
        "    ],\n",
        "    remainder='passthrough'\n",
        ")\n",
        "\n",
        "lasso_pipeline = Pipeline([\n",
        "    ('preprocessor', preprocessor),\n",
        "    ('lasso', Lasso(max_iter=10000))\n",
        "])\n",
        "\n",
        "param_grid = {'lasso__alpha': [0.001, 0.01, 0.1, 1, 10]}\n",
        "grid_search = GridSearchCV(lasso_pipeline, param_grid, cv=5, scoring='neg_mean_squared_error')\n",
        "grid_search.fit(X, y)\n",
        "\n",
        "best_alpha = grid_search.best_params_['lasso__alpha']\n",
        "print(f\"Best alpha: {best_alpha}\")\n",
        "\n",
        "lasso_pipeline.set_params(lasso__alpha=best_alpha)\n",
        "lasso_pipeline.fit(X, y)\n",
        "\n",
        "cross_val_mse = -cross_val_score(lasso_pipeline, X, y, scoring='neg_mean_squared_error', cv=5)\n",
        "mean_cross_val_mse = cross_val_mse.mean()\n",
        "print(f\"Estimated MSE from cross-validation: {mean_cross_val_mse}\")\n",
        "\n",
        "coefs = lasso_pipeline.named_steps['lasso'].coef_\n",
        "\n",
        "feature_names = numeric_features + list(\n",
        "    lasso_pipeline.named_steps['preprocessor']\n",
        "    .transformers_[1][1].get_feature_names_out(categorical_features)\n",
        ")\n",
        "\n",
        "coefs_df3 = pd.DataFrame({'Feature': feature_names, 'Coefficient': coefs})\n",
        "print(\"All Coefficients:\")\n",
        "print(coefs_df3)\n"
      ]
    },
    {
      "cell_type": "markdown",
      "metadata": {
        "id": "Ltf9V2AUetBO"
      },
      "source": [
        "Most of these values are considered significant in the lasso regression. Hits are still a very positive indicator for salary - when you move one standard deviation up for hits it increases salary by about 304,000 dollars."
      ]
    },
    {
      "cell_type": "markdown",
      "metadata": {
        "id": "ueAIBQ22e-EW"
      },
      "source": [
        "D. Elastic Net"
      ]
    },
    {
      "cell_type": "code",
      "execution_count": 27,
      "metadata": {
        "colab": {
          "base_uri": "https://localhost:8080/"
        },
        "id": "YLP_gFa1fAuk",
        "outputId": "0d90a438-a923-4e42-d417-1b6b3b14bec3"
      },
      "outputs": [
        {
          "name": "stdout",
          "output_type": "stream",
          "text": [
            "Best alpha: 0.01\n",
            "Best l1_ratio: 0.2\n",
            "Estimated MSE from cross-validation: 118836.721720832\n",
            "Elastic Net Regression Coefficients:\n",
            "        Feature  Coefficient\n",
            "0         AtBat  -245.451667\n",
            "1          Hits   263.336250\n",
            "2         HmRun     8.140293\n",
            "3          Runs   -12.156781\n",
            "4           RBI    -0.289557\n",
            "5         Walks   115.329254\n",
            "6         Years   -47.370131\n",
            "7        CAtBat  -145.399014\n",
            "8         CHits   124.944236\n",
            "9        CHmRun    52.957120\n",
            "10        CRuns   249.017422\n",
            "11         CRBI   130.086701\n",
            "12       CWalks  -163.955062\n",
            "13      PutOuts    78.243963\n",
            "14      Assists    43.125053\n",
            "15       Errors   -24.381416\n",
            "16     League_N    54.656435\n",
            "17   Division_W  -119.349269\n",
            "18  NewLeague_N   -21.361083\n"
          ]
        }
      ],
      "source": [
        "X = df.drop(columns=['Salary'])\n",
        "y = df['Salary']\n",
        "\n",
        "numeric_features = X.select_dtypes(include=['int64', 'float64']).columns.tolist()\n",
        "categorical_features = ['League', 'Division', 'NewLeague']\n",
        "\n",
        "preprocessor = ColumnTransformer(\n",
        "    transformers=[\n",
        "        ('num', StandardScaler(), numeric_features),\n",
        "        ('cat', OneHotEncoder(drop='first', handle_unknown='ignore'), categorical_features)\n",
        "    ],\n",
        "    remainder='passthrough'\n",
        ")\n",
        "\n",
        "elastic_net_pipeline = Pipeline([\n",
        "    ('preprocessor', preprocessor),\n",
        "    ('elasticnet', ElasticNet(max_iter=10000))\n",
        "])\n",
        "\n",
        "param_grid = {\n",
        "    'elasticnet__alpha': [0.001, 0.01, 0.1, 1.0, 10],\n",
        "    'elasticnet__l1_ratio': [0.2, 0.5, 0.7, 1.0]\n",
        "}\n",
        "grid_search = GridSearchCV(elastic_net_pipeline, param_grid, cv=5, scoring='neg_mean_squared_error')\n",
        "grid_search.fit(X, y)\n",
        "\n",
        "best_alpha = grid_search.best_params_['elasticnet__alpha']\n",
        "best_l1_ratio = grid_search.best_params_['elasticnet__l1_ratio']\n",
        "print(f\"Best alpha: {best_alpha}\")\n",
        "print(f\"Best l1_ratio: {best_l1_ratio}\")\n",
        "\n",
        "elastic_net_pipeline.set_params(elasticnet__alpha=best_alpha, elasticnet__l1_ratio=best_l1_ratio)\n",
        "elastic_net_pipeline.fit(X, y)\n",
        "\n",
        "cross_val_mse = -cross_val_score(elastic_net_pipeline, X, y, scoring='neg_mean_squared_error', cv=5)\n",
        "mean_cross_val_mse = cross_val_mse.mean()\n",
        "print(f\"Estimated MSE from cross-validation: {mean_cross_val_mse}\")\n",
        "\n",
        "coefs = elastic_net_pipeline.named_steps['elasticnet'].coef_\n",
        "\n",
        "feature_names = numeric_features + list(\n",
        "    elastic_net_pipeline.named_steps['preprocessor']\n",
        "    .transformers_[1][1].get_feature_names_out(categorical_features)\n",
        ")\n",
        "\n",
        "coefs_df4 = pd.DataFrame({'Feature': feature_names, 'Coefficient': coefs})\n",
        "\n",
        "print(\"Elastic Net Regression Coefficients:\")\n",
        "print(coefs_df4)\n"
      ]
    },
    {
      "cell_type": "markdown",
      "metadata": {
        "id": "ZikXRO9Cur20"
      },
      "source": [
        "This provides a combination of the two above and has even smaller coefficients. The same trends are appearing for the coefficients as the models before."
      ]
    },
    {
      "cell_type": "markdown",
      "metadata": {
        "id": "wUxxLkA7ujb4"
      },
      "source": [
        "Part II. Variable Selection"
      ]
    },
    {
      "cell_type": "markdown",
      "metadata": {
        "id": "Mob1Ihxiu3Hg"
      },
      "source": [
        "The most important variable seems to be career runs due to its bery high values in all of the models. On average, it has the biggest value out of all the variables."
      ]
    },
    {
      "cell_type": "code",
      "execution_count": 29,
      "metadata": {
        "colab": {
          "base_uri": "https://localhost:8080/"
        },
        "id": "0jipaZz0uj8p",
        "outputId": "41cbd123-2550-47db-d41b-e53ecb8a8eaf"
      },
      "outputs": [
        {
          "name": "stdout",
          "output_type": "stream",
          "text": [
            "Model Comparison CRuns\n",
            "              Model            MSE  \\\n",
            "0        ElasticNet  143655.076048   \n",
            "1             Ridge  143658.517369   \n",
            "2             Lasso  143793.449159   \n",
            "3  LinearRegression  143812.935916   \n",
            "\n",
            "                                     Best Params  \n",
            "0  {'model__alpha': 0.1, 'model__l1_ratio': 0.5}  \n",
            "1                           {'model__alpha': 10}  \n",
            "2                           {'model__alpha': 10}  \n",
            "3                                             {}  \n"
          ]
        }
      ],
      "source": [
        "X = df[['CRuns']]\n",
        "y = df['Salary']\n",
        "\n",
        "# ChatGPT recommended a function to streamline the process for each model\n",
        "def evaluate_model(model, param_grid):\n",
        "    pipeline = Pipeline([\n",
        "        ('scaler', StandardScaler()),\n",
        "        ('model', model)\n",
        "    ])\n",
        "\n",
        "    grid_search = GridSearchCV(pipeline, param_grid, cv=5, scoring='neg_mean_squared_error')\n",
        "    grid_search.fit(X, y)\n",
        "    best_mse = -grid_search.best_score_\n",
        "    best_params = grid_search.best_params_\n",
        "    return best_mse, best_params\n",
        "\n",
        "ridge = Ridge()\n",
        "ridge_param_grid = {'model__alpha': [0.001, 0.01, 0.1, 1.0, 10]}\n",
        "ridge_mse, ridge_best_params = evaluate_model(ridge, ridge_param_grid)\n",
        "\n",
        "lasso = Lasso(max_iter=10000)\n",
        "lasso_param_grid = {'model__alpha': [0.001, 0.01, 0.1, 1.0, 10]}\n",
        "lasso_mse, lasso_best_params = evaluate_model(lasso, lasso_param_grid)\n",
        "\n",
        "elasticnet = ElasticNet(max_iter=10000)\n",
        "elasticnet_param_grid = {\n",
        "    'model__alpha': [0.001, 0.01, 0.1, 1.0, 10],\n",
        "    'model__l1_ratio': [0.2, 0.5, 0.7, 1.0]\n",
        "}\n",
        "elasticnet_mse, elasticnet_best_params = evaluate_model(elasticnet, elasticnet_param_grid)\n",
        "\n",
        "linear = LinearRegression()\n",
        "linear_mse, linear_best_params = evaluate_model(linear, {})\n",
        "\n",
        "results_df = pd.DataFrame({\n",
        "    \"Model\": [\"Ridge\", \"Lasso\", \"ElasticNet\", \"LinearRegression\"],\n",
        "    \"MSE\": [ridge_mse, lasso_mse, elasticnet_mse, linear_mse],\n",
        "    \"Best Params\": [ridge_best_params, lasso_best_params, elasticnet_best_params, linear_best_params]\n",
        "})\n",
        "\n",
        "results_df = results_df.sort_values(by=\"MSE\").reset_index(drop=True)\n",
        "\n",
        "print(\"Model Comparison CRuns\")\n",
        "print(results_df)\n"
      ]
    },
    {
      "cell_type": "markdown",
      "metadata": {
        "id": "NaTGMBCL1dH3"
      },
      "source": [
        "This model is not a great predictor and we can tell that more variables need to be added. The elasticNet model performed the best with CRuns as the only predictor variable."
      ]
    },
    {
      "cell_type": "markdown",
      "metadata": {
        "id": "PManjUsz4Eq6"
      },
      "source": [
        "The five best variables are CRuns, Hits, CRBI, AtBat, and CWalks due to these having the largest (positive or negative) values."
      ]
    },
    {
      "cell_type": "code",
      "execution_count": 31,
      "metadata": {
        "colab": {
          "base_uri": "https://localhost:8080/"
        },
        "id": "YVkOMKEi1uJQ",
        "outputId": "2ce336fa-1a9b-449b-afe4-6178e1629fd1"
      },
      "outputs": [
        {
          "name": "stdout",
          "output_type": "stream",
          "text": [
            "Model Comparison Using 5 Best Variables\n",
            "              Model            MSE  \\\n",
            "0        ElasticNet  125024.904648   \n",
            "1             Ridge  125142.787641   \n",
            "2             Lasso  125289.894263   \n",
            "3  LinearRegression  125502.852876   \n",
            "\n",
            "                                      Best Params  \n",
            "0  {'model__alpha': 0.01, 'model__l1_ratio': 0.2}  \n",
            "1                           {'model__alpha': 1.0}  \n",
            "2                           {'model__alpha': 1.0}  \n",
            "3                                              {}  \n"
          ]
        }
      ],
      "source": [
        "X = df[['CRuns', 'Hits', 'CRBI', 'AtBat', 'CWalks']]\n",
        "y = df['Salary']\n",
        "\n",
        "ridge = Ridge()\n",
        "ridge_param_grid = {'model__alpha': [0.001, 0.01, 0.1, 1.0, 10]}\n",
        "ridge_mse, ridge_best_params = evaluate_model(ridge, ridge_param_grid)\n",
        "\n",
        "lasso = Lasso(max_iter=10000)\n",
        "lasso_param_grid = {'model__alpha': [0.001, 0.01, 0.1, 1.0, 10]}\n",
        "lasso_mse, lasso_best_params = evaluate_model(lasso, lasso_param_grid)\n",
        "\n",
        "elasticnet = ElasticNet(max_iter=10000)\n",
        "elasticnet_param_grid = {\n",
        "    'model__alpha': [0.001, 0.01, 0.1, 1.0, 10],\n",
        "    'model__l1_ratio': [0.2, 0.5, 0.7, 1.0]\n",
        "}\n",
        "elasticnet_mse, elasticnet_best_params = evaluate_model(elasticnet, elasticnet_param_grid)\n",
        "\n",
        "linear = LinearRegression()\n",
        "linear_mse, linear_best_params = evaluate_model(linear, {})  # ChatGPT recommended an empty dictionary due to there being no alpha or l1 ratio\n",
        "\n",
        "results_df = pd.DataFrame({\n",
        "    \"Model\": [\"Ridge\", \"Lasso\", \"ElasticNet\", \"LinearRegression\"],\n",
        "    \"MSE\": [ridge_mse, lasso_mse, elasticnet_mse, linear_mse],\n",
        "    \"Best Params\": [ridge_best_params, lasso_best_params, elasticnet_best_params, linear_best_params]\n",
        "})\n",
        "\n",
        "results_df2 = results_df.sort_values(by=\"MSE\").reset_index(drop=True)\n",
        "\n",
        "print(\"Model Comparison Using 5 Best Variables\")\n",
        "print(results_df2)\n"
      ]
    },
    {
      "cell_type": "markdown",
      "metadata": {
        "id": "_NZssDHw6HLm"
      },
      "source": [
        "The fit does not seem to be as good as the model with all the predictor variables, but the MSE has gone down from the one variable model and the ElasticNet model still is performing the best."
      ]
    },
    {
      "cell_type": "markdown",
      "metadata": {
        "id": "q7FPn4aI8QSh"
      },
      "source": [
        "Using the 5 best variables and their interaction with the best categorical variable (Division_W)"
      ]
    },
    {
      "cell_type": "code",
      "execution_count": 40,
      "metadata": {
        "colab": {
          "base_uri": "https://localhost:8080/"
        },
        "id": "Ys7GJl1EAsD4",
        "outputId": "14e19d0b-5dcb-4233-c87d-6b67a1b0f4fe"
      },
      "outputs": [
        {
          "name": "stdout",
          "output_type": "stream",
          "text": [
            "Model Comparison Results Using Best Numeric Predictors and Interaction Terms with Division_W (Sorted by MSE):\n",
            "              Model            MSE  \\\n",
            "0        ElasticNet  121726.958002   \n",
            "1             Ridge  122389.920071   \n",
            "2             Lasso  123890.244556   \n",
            "3  LinearRegression  131637.234537   \n",
            "\n",
            "                                     Best Params  \n",
            "0  {'model__alpha': 0.1, 'model__l1_ratio': 0.2}  \n",
            "1                           {'model__alpha': 10}  \n",
            "2                           {'model__alpha': 10}  \n",
            "3                                             {}  \n"
          ]
        }
      ],
      "source": [
        "import pandas as pd\n",
        "from sklearn.pipeline import Pipeline\n",
        "from sklearn.preprocessing import StandardScaler\n",
        "from sklearn.linear_model import Ridge, Lasso, ElasticNet, LinearRegression\n",
        "from sklearn.model_selection import GridSearchCV\n",
        "\n",
        "# Manually add the Division_W for simplicity\n",
        "df['Division_W'] = (df['Division'] == 'W').astype(int)\n",
        "\n",
        "numeric_vars = ['CRuns', 'Hits', 'CRBI', 'AtBat', 'CWalks']\n",
        "\n",
        "X = df[numeric_vars].copy()\n",
        "\n",
        "# ChatGPT recommended this method instead of polynomial features to keep Division_W by itself out of the model\n",
        "for var in numeric_vars:\n",
        "    X[f\"{var}_Division_W\"] = X[var] * df['Division_W']\n",
        "\n",
        "y = df['Salary']\n",
        "\n",
        "def evaluate_model_with_interactions(model, param_grid):\n",
        "    pipeline = Pipeline([\n",
        "        ('scaler', StandardScaler()),\n",
        "        ('model', model)\n",
        "    ])\n",
        "    grid_search = GridSearchCV(pipeline, param_grid, cv=5, scoring='neg_mean_squared_error')\n",
        "    grid_search.fit(X, y)\n",
        "\n",
        "    best_mse = -grid_search.best_score_\n",
        "    best_params = grid_search.best_params_\n",
        "    return best_mse, best_params\n",
        "\n",
        "ridge = Ridge()\n",
        "ridge_param_grid = {'model__alpha': [0.001, 0.01, 0.1, 1.0, 10]}\n",
        "ridge_mse, ridge_best_params = evaluate_model_with_interactions(ridge, ridge_param_grid)\n",
        "\n",
        "lasso = Lasso(max_iter=10000)\n",
        "lasso_param_grid = {'model__alpha': [0.001, 0.01, 0.1, 1.0, 10]}\n",
        "lasso_mse, lasso_best_params = evaluate_model_with_interactions(lasso, lasso_param_grid)\n",
        "\n",
        "elasticnet = ElasticNet(max_iter=10000)\n",
        "elasticnet_param_grid = {\n",
        "    'model__alpha': [0.001, 0.01, 0.1, 1.0, 10],\n",
        "    'model__l1_ratio': [0.2, 0.5, 0.7, 1.0]\n",
        "}\n",
        "elasticnet_mse, elasticnet_best_params = evaluate_model_with_interactions(elasticnet, elasticnet_param_grid)\n",
        "\n",
        "linear = LinearRegression()\n",
        "linear_mse, linear_best_params = evaluate_model_with_interactions(linear, {})\n",
        "\n",
        "results_df = pd.DataFrame({\n",
        "    \"Model\": [\"Ridge\", \"Lasso\", \"ElasticNet\", \"LinearRegression\"],\n",
        "    \"MSE\": [ridge_mse, lasso_mse, elasticnet_mse, linear_mse],\n",
        "    \"Best Params\": [ridge_best_params, lasso_best_params, elasticnet_best_params, linear_best_params]\n",
        "})\n",
        "\n",
        "results_df3 = results_df.sort_values(by=\"MSE\").reset_index(drop=True)\n",
        "\n",
        "print(\"Model Comparison Results Using Best Numeric Predictors and Interaction Terms with Division_W (Sorted by MSE):\")\n",
        "print(results_df3)\n",
        "\n",
        "\n"
      ]
    },
    {
      "cell_type": "markdown",
      "metadata": {
        "id": "dmPdCUb6GxB8"
      },
      "source": [
        "Part III. Discussion"
      ]
    },
    {
      "cell_type": "markdown",
      "metadata": {
        "id": "Z9Kt1W6mGxb9"
      },
      "source": [
        "A.\n",
        "Compare your Ridge models with your ordinary regression models. How did your coefficients compare? Why does this make sense?"
      ]
    },
    {
      "cell_type": "markdown",
      "metadata": {
        "id": "pIYBuQOJGzr5"
      },
      "source": [
        "The ridge models had lower MSE than the linear models and seemed to make closer predictions. The coefficients tend to be smaller for the ridge models. This makes sense because Ridge adds a penalty lowering coefficients toward 0. The penalty helps with overfitting so it makes sense that with more variables the ridge model was increasingly effective. This would cause the fit to be closer when testing new data."
      ]
    },
    {
      "cell_type": "markdown",
      "metadata": {
        "id": "VNUEwX7ZIQBl"
      },
      "source": [
        "B.\n",
        "Compare your LASSO model in I with your three LASSO models in II. Did you get the same\n",
        " results? Why does this make sense? Did you get the same MSEs? Why does this make sense?"
      ]
    },
    {
      "cell_type": "markdown",
      "metadata": {
        "id": "fIId-YIKIRW4"
      },
      "source": [
        "The model including every variable had a similiar mse to the model including the top 5 but it was slightly lower with every variable.\n",
        "\n",
        "The models all the variables have less MSE but are not far off from thetop 5 because Lasso reduces the insignificant variables to zero helping to keep it from overfitting and using data that is not a good predictor."
      ]
    },
    {
      "cell_type": "markdown",
      "metadata": {
        "id": "wvGuMUOuJdN9"
      },
      "source": [
        "C.\n",
        "Compare your MSEs for the Elastic Net models with those for the Ridge and LASSO models. Why does it make sense that Elastic Net always “wins”?"
      ]
    },
    {
      "cell_type": "markdown",
      "metadata": {
        "id": "t1saYyOEJfQA"
      },
      "source": [
        "The MSE for the Elastic Net models were always smaller than those for the Ridge and Lasso models. This makes sense becauase Elastic Net combines the two methods and optimizes them to find the best fit."
      ]
    },
    {
      "cell_type": "markdown",
      "metadata": {
        "id": "Z62rMpcrJ8lO"
      },
      "source": [
        "Part IV: Final Model"
      ]
    },
    {
      "cell_type": "code",
      "execution_count": 43,
      "metadata": {
        "colab": {
          "base_uri": "https://localhost:8080/",
          "height": 1000
        },
        "id": "xIXzmnQJJ8GV",
        "outputId": "09cb7ec8-b18a-41cd-ff85-056480c3e59b"
      },
      "outputs": [
        {
          "data": {
            "image/png": "[encoded data removed]",
            "text/plain": [
              "<Figure size 1000x600 with 1 Axes>"
            ]
          },
          "metadata": {},
          "output_type": "display_data"
        },
        {
          "data": {
            "image/png": "[encoded data removed]",
            "text/plain": [
              "<Figure size 1000x600 with 1 Axes>"
            ]
          },
          "metadata": {},
          "output_type": "display_data"
        }
      ],
      "source": [
        "X = df.drop(columns=['Salary'])\n",
        "y = df['Salary']\n",
        "\n",
        "numeric_features = X.select_dtypes(include=['int64', 'float64']).columns.tolist()\n",
        "categorical_features = ['League', 'Division', 'NewLeague']\n",
        "\n",
        "preprocessor = ColumnTransformer(\n",
        "    transformers=[\n",
        "        ('num', StandardScaler(), numeric_features),\n",
        "        ('cat', OneHotEncoder(drop='first', handle_unknown='ignore'), categorical_features)\n",
        "    ],\n",
        "    remainder='passthrough'\n",
        ")\n",
        "\n",
        "elastic_net_pipeline = Pipeline([\n",
        "    ('preprocessor', preprocessor),\n",
        "    ('elasticnet', ElasticNet(max_iter=10000))\n",
        "])\n",
        "\n",
        "param_grid = {\n",
        "    'elasticnet__alpha': [0.001, 0.01, 0.1, 1.0, 10],\n",
        "    'elasticnet__l1_ratio': [0.2, 0.5, 0.7, 1.0]\n",
        "}\n",
        "\n",
        "grid_search = GridSearchCV(elastic_net_pipeline, param_grid, cv=5, scoring='neg_mean_squared_error')\n",
        "grid_search.fit(X, y)\n",
        "\n",
        "best_alpha = grid_search.best_params_['elasticnet__alpha']\n",
        "best_l1_ratio = grid_search.best_params_['elasticnet__l1_ratio']\n",
        "\n",
        "elastic_net_pipeline.set_params(elasticnet__alpha=best_alpha, elasticnet__l1_ratio=best_l1_ratio)\n",
        "elastic_net_pipeline.fit(X, y)\n",
        "\n",
        "cross_val_mse = -cross_val_score(elastic_net_pipeline, X, y, scoring='neg_mean_squared_error', cv=5)\n",
        "mean_cross_val_mse = cross_val_mse.mean()\n",
        "coefs = elastic_net_pipeline.named_steps['elasticnet'].coef_\n",
        "\n",
        "feature_names = numeric_features + list(\n",
        "    elastic_net_pipeline.named_steps['preprocessor']\n",
        "    .transformers_[1][1].get_feature_names_out(categorical_features)\n",
        ")\n",
        "\n",
        "coefs_df = pd.DataFrame({'Feature': feature_names, 'Coefficient': coefs})\n",
        "\n",
        "plt.figure(figsize=(10, 6))\n",
        "coefs_df = coefs_df.sort_values(by='Coefficient', ascending=False)\n",
        "plt.barh(coefs_df['Feature'], coefs_df['Coefficient'])\n",
        "plt.xlabel('Coefficient Value')\n",
        "plt.title('Elastic Net Regression Coefficients')\n",
        "plt.show()\n",
        "\n",
        "y_pred = elastic_net_pipeline.predict(X)\n",
        "\n",
        "residuals = y - y_pred\n",
        "\n",
        "plt.figure(figsize=(10, 6))\n",
        "plt.scatter(y_pred, residuals, alpha=0.7)\n",
        "plt.axhline(y=0, color='red', linestyle='--')\n",
        "plt.xlabel('Predicted Salary')\n",
        "plt.ylabel('Residuals')\n",
        "plt.title('Residuals Plot for Elastic Net Regression')\n",
        "plt.show()\n"
      ]
    },
    {
      "cell_type": "markdown",
      "metadata": {
        "id": "aLePMfmZLr6S"
      },
      "source": [
        "Using the pipeline from before on all the variables to predict salary using ElasticNet method, we can see that it fits better for the lower salaries. There are a couple outliers, and the variability increases as the salary increases."
      ]
    }
  ],
  "metadata": {
    "colab": {
      "provenance": []
    },
    "kernelspec": {
      "display_name": "Python 3",
      "name": "python3"
    },
    "language_info": {
      "name": "python"
    }
  },
  "nbformat": 4,
  "nbformat_minor": 0
}
